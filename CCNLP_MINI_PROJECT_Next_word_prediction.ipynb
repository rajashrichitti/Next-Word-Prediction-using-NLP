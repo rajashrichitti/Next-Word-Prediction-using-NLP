{
  "cells": [
    {
      "cell_type": "markdown",
      "source": [
        "\n",
        "#Next Word Prediction using Bi-Gram and Tri-Gram model [Alice.txt data]"
      ],
      "metadata": {
        "id": "NUsIyvZwVZny"
      }
    },
    {
      "cell_type": "code",
      "source": [
        "import nltk\n",
        "nltk.download('punkt')"
      ],
      "metadata": {
        "colab": {
          "base_uri": "https://localhost:8080/"
        },
        "id": "o09g0D4IVwWl",
        "outputId": "68d9eb38-f02b-464f-bd30-7f8c8149f251"
      },
      "execution_count": 7,
      "outputs": [
        {
          "output_type": "stream",
          "name": "stdout",
          "text": [
            "[nltk_data] Downloading package punkt to /root/nltk_data...\n",
            "[nltk_data]   Package punkt is already up-to-date!\n"
          ]
        },
        {
          "output_type": "execute_result",
          "data": {
            "text/plain": [
              "True"
            ]
          },
          "metadata": {},
          "execution_count": 7
        }
      ]
    },
    {
      "cell_type": "code",
      "source": [
        "from nltk import bigrams, trigrams\n",
        "from nltk import word_tokenize\n",
        "from collections import Counter\n",
        "\n",
        "    \n",
        "text = '/content/alice.txt'\n",
        "\n",
        "\n",
        "with open(text) as f:\n",
        "    p = f.read()   \n",
        "    tokens = word_tokenize(p)\n",
        "    size = len(tokens)\n",
        "    bi = list(bigrams(tokens, pad_left=True, pad_right=True)) # Get the padded bigrams\n",
        "    size_bi = len(bi)\n",
        "    \n",
        "    tri = list(trigrams(tokens, pad_left=True, pad_right=True))\n",
        "    size_tri = len(tri)\n",
        "    \n",
        "    string = str(input())\n",
        "    tok = word_tokenize(string)\n",
        "    \n",
        "    bi_str = list(bigrams(tok, pad_left=True, pad_right=True))\n",
        "    size_bi_str = len(bi_str)\n",
        "    bi_test = bi_str\n",
        "    \n",
        "    tri_str = list(trigrams(tok, pad_left=True, pad_right=True))\n",
        "    tri_test = tri_str\n",
        "    size_tri_str = len(tri_str)\n",
        "    \n",
        "    prob_bi = (tokens.count(tok[0])/size) * (bi.count(bi_str[1])/size_bi)\n",
        "    \n",
        "    search = bi_str[size_bi_str-1][0]\n",
        "    maxi = 0\n",
        "    for sublist in bi:\n",
        "        if sublist[0] == search:\n",
        "            bi_test[size_bi_str-1] = sublist\n",
        "            for i in range(2, len(bi_test)-1):\n",
        "                prob_bi = prob_bi * (bi.count(bi_test[i])/tok.count(bi_test[i][0]))\n",
        "                \n",
        "            if ( maxi < prob_bi):\n",
        "                maxi = prob_bi\n",
        "                string_final = bi_test\n",
        "    #print (string_final)\n",
        "    print (\"bigram: \" + string + \" \" + string_final[len(bi_test)-1][1])\n",
        "    \n",
        "    search = tri_str[size_tri_str-2][0:1]\n",
        "    maxi = 0\n",
        "    prob_tri = prob_bi\n",
        "    for sublist in tri:\n",
        "        if sublist[0:1] == search:\n",
        "            tri_test[size_tri_str-2] = sublist\n",
        "            tri_test = tri_test[0:size_tri_str-1]\n",
        "            for i in range(2, len(tri_test)-1):\n",
        "                prob_tri = prob_tri * (tri.count(tri_test[i])/size_tri)\n",
        "            \n",
        "            if ( maxi < prob_bi):\n",
        "                maxi = prob_tri\n",
        "                string_final = tri_test\n",
        "\n",
        "    print (\"trigram: \" + string + \" \" + string_final[len(tri_test)-1][2])"
      ],
      "metadata": {
        "colab": {
          "base_uri": "https://localhost:8080/"
        },
        "id": "Xqbc_Ai1Vyrr",
        "outputId": "ba5220f7-572f-4c41-b3d9-6135db484730"
      },
      "execution_count": 8,
      "outputs": [
        {
          "output_type": "stream",
          "name": "stdout",
          "text": [
            "There is\n",
            "bigram: There is it\n",
            "trigram: There is nothing\n"
          ]
        }
      ]
    },
    {
      "cell_type": "markdown",
      "metadata": {
        "id": "pFsCLi3Ojrq0"
      },
      "source": [
        "# Next Word Prediction with LSTM model- [Using BSD Corpus]"
      ]
    },
    {
      "cell_type": "markdown",
      "metadata": {
        "id": "Of2Kr8R2jzMT"
      },
      "source": [
        "## Data preparation"
      ]
    },
    {
      "cell_type": "code",
      "execution_count": 9,
      "metadata": {
        "id": "04wcA-OmX06I"
      },
      "outputs": [],
      "source": [
        "import numpy as np\n",
        "import heapq\n",
        "import matplotlib.pyplot as plt\n",
        "from nltk.tokenize import RegexpTokenizer\n",
        "from nltk.tokenize import word_tokenize\n",
        "from keras.models import Sequential, load_model\n",
        "from keras.layers.core import Dense, Activation\n",
        "from keras.layers import LSTM\n",
        "import pickle\n",
        "from tensorflow.keras.optimizers import RMSprop"
      ]
    },
    {
      "cell_type": "code",
      "execution_count": 10,
      "metadata": {
        "colab": {
          "base_uri": "https://localhost:8080/"
        },
        "id": "ma-3O2dwioJF",
        "outputId": "c547a2f7-c0e1-4ac3-a64c-2a5c247e9bdf"
      },
      "outputs": [
        {
          "output_type": "stream",
          "name": "stdout",
          "text": [
            "['phone call' 'meeting' 'face-to-face conversation' 'general chatting'\n",
            " 'presentation' 'training']\n"
          ]
        }
      ],
      "source": [
        "# Import the data set, and get all sentences\n",
        "import pandas as pd\n",
        "\n",
        "df = pd.read_json('/content/train.json')\n",
        "print(df['tag'].unique())"
      ]
    },
    {
      "cell_type": "code",
      "execution_count": 11,
      "metadata": {
        "colab": {
          "base_uri": "https://localhost:8080/",
          "height": 468
        },
        "id": "cahzn9YQqfJx",
        "outputId": "59b38d78-69b3-43b7-8e9b-d5606bf9e98e"
      },
      "outputs": [
        {
          "output_type": "execute_result",
          "data": {
            "text/plain": [
              "                 id                        tag  \\\n",
              "0     190329_J07_03                 phone call   \n",
              "1     190329_J06_11                    meeting   \n",
              "2     190329_J06_10                    meeting   \n",
              "3     190329_J06_09  face-to-face conversation   \n",
              "4     190329_J06_08  face-to-face conversation   \n",
              "..              ...                        ...   \n",
              "665  190315_E001_05               presentation   \n",
              "666  190315_E001_04                   training   \n",
              "667  190315_E001_03           general chatting   \n",
              "668  190315_E001_02                 phone call   \n",
              "669  190315_E001_01                    meeting   \n",
              "\n",
              "                                                 title original_language  \\\n",
              "0                                 伝言への折り返し電話　打ち合わせ日程調整                ja   \n",
              "1                                    株主総会に関する役員向け説明（２）                ja   \n",
              "2                                    株主総会に関する役員向け説明（１）                ja   \n",
              "3                                        信託銀行から株主名簿を受領                ja   \n",
              "4                                           株主総会への臨場要請                ja   \n",
              "..                                                 ...               ...   \n",
              "665                 Presentation: Company introduction                en   \n",
              "666                  Training: training a new employee                en   \n",
              "667          General chatting: Company Christmas party                en   \n",
              "668            Phone call: requesting a lunch meeting.                en   \n",
              "669  Meeting: Wrap-up meeting (after meeting a star...                en   \n",
              "\n",
              "                                          conversation  \n",
              "0    [{'no': 1, 'ja_speaker': '土井さん', 'en_speaker':...  \n",
              "1    [{'no': 1, 'ja_speaker': '高田さん', 'en_speaker':...  \n",
              "2    [{'no': 1, 'ja_speaker': '友井さん', 'en_speaker':...  \n",
              "3    [{'no': 1, 'ja_speaker': '高田さん', 'en_speaker':...  \n",
              "4    [{'no': 1, 'ja_speaker': '高田さん', 'en_speaker':...  \n",
              "..                                                 ...  \n",
              "665  [{'no': 1, 'en_speaker': 'Mr. Asano Yuki', 'ja...  \n",
              "666  [{'no': 1, 'en_speaker': 'Mr. Ben Sherman', 'j...  \n",
              "667  [{'no': 1, 'en_speaker': 'Ms. Amy Lin', 'ja_sp...  \n",
              "668  [{'no': 1, 'en_speaker': 'Mr. John Smith', 'ja...  \n",
              "669  [{'no': 1, 'en_speaker': 'Mr. Bob Cook', 'ja_s...  \n",
              "\n",
              "[670 rows x 5 columns]"
            ],
            "text/html": [
              "\n",
              "  <div id=\"df-c5d91f65-868a-4dc7-9450-6dc068415849\">\n",
              "    <div class=\"colab-df-container\">\n",
              "      <div>\n",
              "<style scoped>\n",
              "    .dataframe tbody tr th:only-of-type {\n",
              "        vertical-align: middle;\n",
              "    }\n",
              "\n",
              "    .dataframe tbody tr th {\n",
              "        vertical-align: top;\n",
              "    }\n",
              "\n",
              "    .dataframe thead th {\n",
              "        text-align: right;\n",
              "    }\n",
              "</style>\n",
              "<table border=\"1\" class=\"dataframe\">\n",
              "  <thead>\n",
              "    <tr style=\"text-align: right;\">\n",
              "      <th></th>\n",
              "      <th>id</th>\n",
              "      <th>tag</th>\n",
              "      <th>title</th>\n",
              "      <th>original_language</th>\n",
              "      <th>conversation</th>\n",
              "    </tr>\n",
              "  </thead>\n",
              "  <tbody>\n",
              "    <tr>\n",
              "      <th>0</th>\n",
              "      <td>190329_J07_03</td>\n",
              "      <td>phone call</td>\n",
              "      <td>伝言への折り返し電話　打ち合わせ日程調整</td>\n",
              "      <td>ja</td>\n",
              "      <td>[{'no': 1, 'ja_speaker': '土井さん', 'en_speaker':...</td>\n",
              "    </tr>\n",
              "    <tr>\n",
              "      <th>1</th>\n",
              "      <td>190329_J06_11</td>\n",
              "      <td>meeting</td>\n",
              "      <td>株主総会に関する役員向け説明（２）</td>\n",
              "      <td>ja</td>\n",
              "      <td>[{'no': 1, 'ja_speaker': '高田さん', 'en_speaker':...</td>\n",
              "    </tr>\n",
              "    <tr>\n",
              "      <th>2</th>\n",
              "      <td>190329_J06_10</td>\n",
              "      <td>meeting</td>\n",
              "      <td>株主総会に関する役員向け説明（１）</td>\n",
              "      <td>ja</td>\n",
              "      <td>[{'no': 1, 'ja_speaker': '友井さん', 'en_speaker':...</td>\n",
              "    </tr>\n",
              "    <tr>\n",
              "      <th>3</th>\n",
              "      <td>190329_J06_09</td>\n",
              "      <td>face-to-face conversation</td>\n",
              "      <td>信託銀行から株主名簿を受領</td>\n",
              "      <td>ja</td>\n",
              "      <td>[{'no': 1, 'ja_speaker': '高田さん', 'en_speaker':...</td>\n",
              "    </tr>\n",
              "    <tr>\n",
              "      <th>4</th>\n",
              "      <td>190329_J06_08</td>\n",
              "      <td>face-to-face conversation</td>\n",
              "      <td>株主総会への臨場要請</td>\n",
              "      <td>ja</td>\n",
              "      <td>[{'no': 1, 'ja_speaker': '高田さん', 'en_speaker':...</td>\n",
              "    </tr>\n",
              "    <tr>\n",
              "      <th>...</th>\n",
              "      <td>...</td>\n",
              "      <td>...</td>\n",
              "      <td>...</td>\n",
              "      <td>...</td>\n",
              "      <td>...</td>\n",
              "    </tr>\n",
              "    <tr>\n",
              "      <th>665</th>\n",
              "      <td>190315_E001_05</td>\n",
              "      <td>presentation</td>\n",
              "      <td>Presentation: Company introduction</td>\n",
              "      <td>en</td>\n",
              "      <td>[{'no': 1, 'en_speaker': 'Mr. Asano Yuki', 'ja...</td>\n",
              "    </tr>\n",
              "    <tr>\n",
              "      <th>666</th>\n",
              "      <td>190315_E001_04</td>\n",
              "      <td>training</td>\n",
              "      <td>Training: training a new employee</td>\n",
              "      <td>en</td>\n",
              "      <td>[{'no': 1, 'en_speaker': 'Mr. Ben Sherman', 'j...</td>\n",
              "    </tr>\n",
              "    <tr>\n",
              "      <th>667</th>\n",
              "      <td>190315_E001_03</td>\n",
              "      <td>general chatting</td>\n",
              "      <td>General chatting: Company Christmas party</td>\n",
              "      <td>en</td>\n",
              "      <td>[{'no': 1, 'en_speaker': 'Ms. Amy Lin', 'ja_sp...</td>\n",
              "    </tr>\n",
              "    <tr>\n",
              "      <th>668</th>\n",
              "      <td>190315_E001_02</td>\n",
              "      <td>phone call</td>\n",
              "      <td>Phone call: requesting a lunch meeting.</td>\n",
              "      <td>en</td>\n",
              "      <td>[{'no': 1, 'en_speaker': 'Mr. John Smith', 'ja...</td>\n",
              "    </tr>\n",
              "    <tr>\n",
              "      <th>669</th>\n",
              "      <td>190315_E001_01</td>\n",
              "      <td>meeting</td>\n",
              "      <td>Meeting: Wrap-up meeting (after meeting a star...</td>\n",
              "      <td>en</td>\n",
              "      <td>[{'no': 1, 'en_speaker': 'Mr. Bob Cook', 'ja_s...</td>\n",
              "    </tr>\n",
              "  </tbody>\n",
              "</table>\n",
              "<p>670 rows × 5 columns</p>\n",
              "</div>\n",
              "      <button class=\"colab-df-convert\" onclick=\"convertToInteractive('df-c5d91f65-868a-4dc7-9450-6dc068415849')\"\n",
              "              title=\"Convert this dataframe to an interactive table.\"\n",
              "              style=\"display:none;\">\n",
              "        \n",
              "  <svg xmlns=\"http://www.w3.org/2000/svg\" height=\"24px\"viewBox=\"0 0 24 24\"\n",
              "       width=\"24px\">\n",
              "    <path d=\"M0 0h24v24H0V0z\" fill=\"none\"/>\n",
              "    <path d=\"M18.56 5.44l.94 2.06.94-2.06 2.06-.94-2.06-.94-.94-2.06-.94 2.06-2.06.94zm-11 1L8.5 8.5l.94-2.06 2.06-.94-2.06-.94L8.5 2.5l-.94 2.06-2.06.94zm10 10l.94 2.06.94-2.06 2.06-.94-2.06-.94-.94-2.06-.94 2.06-2.06.94z\"/><path d=\"M17.41 7.96l-1.37-1.37c-.4-.4-.92-.59-1.43-.59-.52 0-1.04.2-1.43.59L10.3 9.45l-7.72 7.72c-.78.78-.78 2.05 0 2.83L4 21.41c.39.39.9.59 1.41.59.51 0 1.02-.2 1.41-.59l7.78-7.78 2.81-2.81c.8-.78.8-2.07 0-2.86zM5.41 20L4 18.59l7.72-7.72 1.47 1.35L5.41 20z\"/>\n",
              "  </svg>\n",
              "      </button>\n",
              "      \n",
              "  <style>\n",
              "    .colab-df-container {\n",
              "      display:flex;\n",
              "      flex-wrap:wrap;\n",
              "      gap: 12px;\n",
              "    }\n",
              "\n",
              "    .colab-df-convert {\n",
              "      background-color: #E8F0FE;\n",
              "      border: none;\n",
              "      border-radius: 50%;\n",
              "      cursor: pointer;\n",
              "      display: none;\n",
              "      fill: #1967D2;\n",
              "      height: 32px;\n",
              "      padding: 0 0 0 0;\n",
              "      width: 32px;\n",
              "    }\n",
              "\n",
              "    .colab-df-convert:hover {\n",
              "      background-color: #E2EBFA;\n",
              "      box-shadow: 0px 1px 2px rgba(60, 64, 67, 0.3), 0px 1px 3px 1px rgba(60, 64, 67, 0.15);\n",
              "      fill: #174EA6;\n",
              "    }\n",
              "\n",
              "    [theme=dark] .colab-df-convert {\n",
              "      background-color: #3B4455;\n",
              "      fill: #D2E3FC;\n",
              "    }\n",
              "\n",
              "    [theme=dark] .colab-df-convert:hover {\n",
              "      background-color: #434B5C;\n",
              "      box-shadow: 0px 1px 3px 1px rgba(0, 0, 0, 0.15);\n",
              "      filter: drop-shadow(0px 1px 2px rgba(0, 0, 0, 0.3));\n",
              "      fill: #FFFFFF;\n",
              "    }\n",
              "  </style>\n",
              "\n",
              "      <script>\n",
              "        const buttonEl =\n",
              "          document.querySelector('#df-c5d91f65-868a-4dc7-9450-6dc068415849 button.colab-df-convert');\n",
              "        buttonEl.style.display =\n",
              "          google.colab.kernel.accessAllowed ? 'block' : 'none';\n",
              "\n",
              "        async function convertToInteractive(key) {\n",
              "          const element = document.querySelector('#df-c5d91f65-868a-4dc7-9450-6dc068415849');\n",
              "          const dataTable =\n",
              "            await google.colab.kernel.invokeFunction('convertToInteractive',\n",
              "                                                     [key], {});\n",
              "          if (!dataTable) return;\n",
              "\n",
              "          const docLinkHtml = 'Like what you see? Visit the ' +\n",
              "            '<a target=\"_blank\" href=https://colab.research.google.com/notebooks/data_table.ipynb>data table notebook</a>'\n",
              "            + ' to learn more about interactive tables.';\n",
              "          element.innerHTML = '';\n",
              "          dataTable['output_type'] = 'display_data';\n",
              "          await google.colab.output.renderOutput(dataTable, element);\n",
              "          const docLink = document.createElement('div');\n",
              "          docLink.innerHTML = docLinkHtml;\n",
              "          element.appendChild(docLink);\n",
              "        }\n",
              "      </script>\n",
              "    </div>\n",
              "  </div>\n",
              "  "
            ]
          },
          "metadata": {},
          "execution_count": 11
        }
      ],
      "source": [
        "df"
      ]
    },
    {
      "cell_type": "code",
      "execution_count": 12,
      "metadata": {
        "id": "wIgqXgN5kzII"
      },
      "outputs": [],
      "source": [
        "df_convs = pd.concat([pd.json_normalize(df['conversation'][i]) for i in range(len(df))],ignore_index=True)\n",
        "trainen = df_convs[\"en_sentence\"].values.tolist()\n",
        "trainja = df_convs[\"ja_sentence\"].values.tolist()"
      ]
    },
    {
      "cell_type": "code",
      "execution_count": 13,
      "metadata": {
        "colab": {
          "base_uri": "https://localhost:8080/",
          "height": 537
        },
        "id": "Oz4TefjJqpL7",
        "outputId": "bc13c988-81f2-40f7-c8c9-cccb7252d3a3"
      },
      "outputs": [
        {
          "output_type": "execute_result",
          "data": {
            "text/plain": [
              "       no  ja_speaker      en_speaker                          ja_sentence  \\\n",
              "0       1        土井さん         Doi-san                      はい、K社システム開発部です。   \n",
              "1       2        高市さん    Takaichi-san                          H社の高市と申します。   \n",
              "2       3        高市さん    Takaichi-san                      いつもお世話になっております。   \n",
              "3       4        土井さん         Doi-san                   こちらこそ、お世話になっております。   \n",
              "4       5        高市さん    Takaichi-san                      稲田さんはいらっしゃいますか？   \n",
              "...    ..         ...             ...                                  ...   \n",
              "19995  28    ボブ クックさん    Mr. Bob Cook                      今日の5時までに書き上げます。   \n",
              "19996  29  アル ジョンソンさん  Mr. Al Johnson                                完璧だね。   \n",
              "19997  30  アル ジョンソンさん  Mr. Al Johnson          明日ゼネラルマネージャーにA社の件を話しておきますね。   \n",
              "19998  31  アル ジョンソンさん  Mr. Al Johnson  彼がA社を気に入ってくれて、投資できる方向に決まることを願いましょう。   \n",
              "19999  32    ボブ クックさん    Mr. Bob Cook                               そうですね。   \n",
              "\n",
              "                                             en_sentence  \n",
              "0      Hi this is the systems development department ...  \n",
              "1                    My name is Takaichi from Company H.  \n",
              "2                                   Thank you as always.  \n",
              "3                           Thank you as always as well.  \n",
              "4                                    Is Inada-san there?  \n",
              "...                                                  ...  \n",
              "19995                 I'll finish it by 5 o'clock today.  \n",
              "19996                                           Perfect.  \n",
              "19997  I'll go talk to the general manager tomorrow t...  \n",
              "19998  Hopefully he will like Company A and make the ...  \n",
              "19999                                     I hope so too.  \n",
              "\n",
              "[20000 rows x 5 columns]"
            ],
            "text/html": [
              "\n",
              "  <div id=\"df-6e6495cf-d5c4-460c-ae1c-dcde18519763\">\n",
              "    <div class=\"colab-df-container\">\n",
              "      <div>\n",
              "<style scoped>\n",
              "    .dataframe tbody tr th:only-of-type {\n",
              "        vertical-align: middle;\n",
              "    }\n",
              "\n",
              "    .dataframe tbody tr th {\n",
              "        vertical-align: top;\n",
              "    }\n",
              "\n",
              "    .dataframe thead th {\n",
              "        text-align: right;\n",
              "    }\n",
              "</style>\n",
              "<table border=\"1\" class=\"dataframe\">\n",
              "  <thead>\n",
              "    <tr style=\"text-align: right;\">\n",
              "      <th></th>\n",
              "      <th>no</th>\n",
              "      <th>ja_speaker</th>\n",
              "      <th>en_speaker</th>\n",
              "      <th>ja_sentence</th>\n",
              "      <th>en_sentence</th>\n",
              "    </tr>\n",
              "  </thead>\n",
              "  <tbody>\n",
              "    <tr>\n",
              "      <th>0</th>\n",
              "      <td>1</td>\n",
              "      <td>土井さん</td>\n",
              "      <td>Doi-san</td>\n",
              "      <td>はい、K社システム開発部です。</td>\n",
              "      <td>Hi this is the systems development department ...</td>\n",
              "    </tr>\n",
              "    <tr>\n",
              "      <th>1</th>\n",
              "      <td>2</td>\n",
              "      <td>高市さん</td>\n",
              "      <td>Takaichi-san</td>\n",
              "      <td>H社の高市と申します。</td>\n",
              "      <td>My name is Takaichi from Company H.</td>\n",
              "    </tr>\n",
              "    <tr>\n",
              "      <th>2</th>\n",
              "      <td>3</td>\n",
              "      <td>高市さん</td>\n",
              "      <td>Takaichi-san</td>\n",
              "      <td>いつもお世話になっております。</td>\n",
              "      <td>Thank you as always.</td>\n",
              "    </tr>\n",
              "    <tr>\n",
              "      <th>3</th>\n",
              "      <td>4</td>\n",
              "      <td>土井さん</td>\n",
              "      <td>Doi-san</td>\n",
              "      <td>こちらこそ、お世話になっております。</td>\n",
              "      <td>Thank you as always as well.</td>\n",
              "    </tr>\n",
              "    <tr>\n",
              "      <th>4</th>\n",
              "      <td>5</td>\n",
              "      <td>高市さん</td>\n",
              "      <td>Takaichi-san</td>\n",
              "      <td>稲田さんはいらっしゃいますか？</td>\n",
              "      <td>Is Inada-san there?</td>\n",
              "    </tr>\n",
              "    <tr>\n",
              "      <th>...</th>\n",
              "      <td>...</td>\n",
              "      <td>...</td>\n",
              "      <td>...</td>\n",
              "      <td>...</td>\n",
              "      <td>...</td>\n",
              "    </tr>\n",
              "    <tr>\n",
              "      <th>19995</th>\n",
              "      <td>28</td>\n",
              "      <td>ボブ クックさん</td>\n",
              "      <td>Mr. Bob Cook</td>\n",
              "      <td>今日の5時までに書き上げます。</td>\n",
              "      <td>I'll finish it by 5 o'clock today.</td>\n",
              "    </tr>\n",
              "    <tr>\n",
              "      <th>19996</th>\n",
              "      <td>29</td>\n",
              "      <td>アル ジョンソンさん</td>\n",
              "      <td>Mr. Al Johnson</td>\n",
              "      <td>完璧だね。</td>\n",
              "      <td>Perfect.</td>\n",
              "    </tr>\n",
              "    <tr>\n",
              "      <th>19997</th>\n",
              "      <td>30</td>\n",
              "      <td>アル ジョンソンさん</td>\n",
              "      <td>Mr. Al Johnson</td>\n",
              "      <td>明日ゼネラルマネージャーにA社の件を話しておきますね。</td>\n",
              "      <td>I'll go talk to the general manager tomorrow t...</td>\n",
              "    </tr>\n",
              "    <tr>\n",
              "      <th>19998</th>\n",
              "      <td>31</td>\n",
              "      <td>アル ジョンソンさん</td>\n",
              "      <td>Mr. Al Johnson</td>\n",
              "      <td>彼がA社を気に入ってくれて、投資できる方向に決まることを願いましょう。</td>\n",
              "      <td>Hopefully he will like Company A and make the ...</td>\n",
              "    </tr>\n",
              "    <tr>\n",
              "      <th>19999</th>\n",
              "      <td>32</td>\n",
              "      <td>ボブ クックさん</td>\n",
              "      <td>Mr. Bob Cook</td>\n",
              "      <td>そうですね。</td>\n",
              "      <td>I hope so too.</td>\n",
              "    </tr>\n",
              "  </tbody>\n",
              "</table>\n",
              "<p>20000 rows × 5 columns</p>\n",
              "</div>\n",
              "      <button class=\"colab-df-convert\" onclick=\"convertToInteractive('df-6e6495cf-d5c4-460c-ae1c-dcde18519763')\"\n",
              "              title=\"Convert this dataframe to an interactive table.\"\n",
              "              style=\"display:none;\">\n",
              "        \n",
              "  <svg xmlns=\"http://www.w3.org/2000/svg\" height=\"24px\"viewBox=\"0 0 24 24\"\n",
              "       width=\"24px\">\n",
              "    <path d=\"M0 0h24v24H0V0z\" fill=\"none\"/>\n",
              "    <path d=\"M18.56 5.44l.94 2.06.94-2.06 2.06-.94-2.06-.94-.94-2.06-.94 2.06-2.06.94zm-11 1L8.5 8.5l.94-2.06 2.06-.94-2.06-.94L8.5 2.5l-.94 2.06-2.06.94zm10 10l.94 2.06.94-2.06 2.06-.94-2.06-.94-.94-2.06-.94 2.06-2.06.94z\"/><path d=\"M17.41 7.96l-1.37-1.37c-.4-.4-.92-.59-1.43-.59-.52 0-1.04.2-1.43.59L10.3 9.45l-7.72 7.72c-.78.78-.78 2.05 0 2.83L4 21.41c.39.39.9.59 1.41.59.51 0 1.02-.2 1.41-.59l7.78-7.78 2.81-2.81c.8-.78.8-2.07 0-2.86zM5.41 20L4 18.59l7.72-7.72 1.47 1.35L5.41 20z\"/>\n",
              "  </svg>\n",
              "      </button>\n",
              "      \n",
              "  <style>\n",
              "    .colab-df-container {\n",
              "      display:flex;\n",
              "      flex-wrap:wrap;\n",
              "      gap: 12px;\n",
              "    }\n",
              "\n",
              "    .colab-df-convert {\n",
              "      background-color: #E8F0FE;\n",
              "      border: none;\n",
              "      border-radius: 50%;\n",
              "      cursor: pointer;\n",
              "      display: none;\n",
              "      fill: #1967D2;\n",
              "      height: 32px;\n",
              "      padding: 0 0 0 0;\n",
              "      width: 32px;\n",
              "    }\n",
              "\n",
              "    .colab-df-convert:hover {\n",
              "      background-color: #E2EBFA;\n",
              "      box-shadow: 0px 1px 2px rgba(60, 64, 67, 0.3), 0px 1px 3px 1px rgba(60, 64, 67, 0.15);\n",
              "      fill: #174EA6;\n",
              "    }\n",
              "\n",
              "    [theme=dark] .colab-df-convert {\n",
              "      background-color: #3B4455;\n",
              "      fill: #D2E3FC;\n",
              "    }\n",
              "\n",
              "    [theme=dark] .colab-df-convert:hover {\n",
              "      background-color: #434B5C;\n",
              "      box-shadow: 0px 1px 3px 1px rgba(0, 0, 0, 0.15);\n",
              "      filter: drop-shadow(0px 1px 2px rgba(0, 0, 0, 0.3));\n",
              "      fill: #FFFFFF;\n",
              "    }\n",
              "  </style>\n",
              "\n",
              "      <script>\n",
              "        const buttonEl =\n",
              "          document.querySelector('#df-6e6495cf-d5c4-460c-ae1c-dcde18519763 button.colab-df-convert');\n",
              "        buttonEl.style.display =\n",
              "          google.colab.kernel.accessAllowed ? 'block' : 'none';\n",
              "\n",
              "        async function convertToInteractive(key) {\n",
              "          const element = document.querySelector('#df-6e6495cf-d5c4-460c-ae1c-dcde18519763');\n",
              "          const dataTable =\n",
              "            await google.colab.kernel.invokeFunction('convertToInteractive',\n",
              "                                                     [key], {});\n",
              "          if (!dataTable) return;\n",
              "\n",
              "          const docLinkHtml = 'Like what you see? Visit the ' +\n",
              "            '<a target=\"_blank\" href=https://colab.research.google.com/notebooks/data_table.ipynb>data table notebook</a>'\n",
              "            + ' to learn more about interactive tables.';\n",
              "          element.innerHTML = '';\n",
              "          dataTable['output_type'] = 'display_data';\n",
              "          await google.colab.output.renderOutput(dataTable, element);\n",
              "          const docLink = document.createElement('div');\n",
              "          docLink.innerHTML = docLinkHtml;\n",
              "          element.appendChild(docLink);\n",
              "        }\n",
              "      </script>\n",
              "    </div>\n",
              "  </div>\n",
              "  "
            ]
          },
          "metadata": {},
          "execution_count": 13
        }
      ],
      "source": [
        "df_convs"
      ]
    },
    {
      "cell_type": "code",
      "execution_count": 14,
      "metadata": {
        "colab": {
          "base_uri": "https://localhost:8080/"
        },
        "id": "X9aOspbbk0Gs",
        "outputId": "8fae9860-af87-4bc9-fbe3-8b3185d341de"
      },
      "outputs": [
        {
          "output_type": "execute_result",
          "data": {
            "text/plain": [
              "20000"
            ]
          },
          "metadata": {},
          "execution_count": 14
        }
      ],
      "source": [
        "len(trainen)"
      ]
    },
    {
      "cell_type": "code",
      "execution_count": 15,
      "metadata": {
        "colab": {
          "base_uri": "https://localhost:8080/"
        },
        "id": "bpyu8EgEcxiq",
        "outputId": "b6de1270-4ff7-4bfa-b07c-3c98889d6064"
      },
      "outputs": [
        {
          "output_type": "execute_result",
          "data": {
            "text/plain": [
              "['I hope so.',\n",
              " 'Okay, anyways, we will send 2 police officers from our side to the general meeting of shareholders on the day.',\n",
              " 'Thank you very much.',\n",
              " 'I will have them speak to your reception around 9:30 in the morning.',\n",
              " 'Okay.',\n",
              " 'I will be stationed at the reception ten minutes before the start of the general meeting so please let me know.',\n",
              " 'Okay, got it.',\n",
              " 'Alright, then I look forward to working with you on the day.',\n",
              " 'Thank you for calling, this is the Judicial Scrivener office T.',\n",
              " 'Thank you as always, my name is Takada from Company I.',\n",
              " 'Thank you.',\n",
              " 'Sorry but is Mr. Takanashi in today?',\n",
              " 'Please wait a moment.',\n",
              " 'Thank you for holding, this is Takanashi.',\n",
              " 'Thank you as always, this is Takada.',\n",
              " \"I'm calling today in regards to a registration request.\",\n",
              " 'I exercised the stock option last month and the stock increased.',\n",
              " \"And I'd like to ask you to do the registration process for changing the total number of stock issued.\",\n",
              " 'Okay.',\n",
              " 'I will send you an email on the details of the number of stock.']"
            ]
          },
          "metadata": {},
          "execution_count": 15
        }
      ],
      "source": [
        "trainen[140:160]"
      ]
    },
    {
      "cell_type": "code",
      "execution_count": 16,
      "metadata": {
        "colab": {
          "base_uri": "https://localhost:8080/"
        },
        "id": "MNS6pWZXpnt8",
        "outputId": "fd18c91b-f0da-46c2-e556-a268cf46f833"
      },
      "outputs": [
        {
          "output_type": "stream",
          "name": "stdout",
          "text": [
            "length of the corpus is: : 532978\n"
          ]
        }
      ],
      "source": [
        "#concat all english messages\n",
        "text = ' '.join(trainen[0:10000]) # Out of RAM if we use all the data\n",
        "print('length of the corpus is: :', len(text))"
      ]
    },
    {
      "cell_type": "code",
      "execution_count": 17,
      "metadata": {
        "id": "UdWEMJCYtvG0"
      },
      "outputs": [],
      "source": [
        "# tokenizer\n",
        "tokenizer = RegexpTokenizer(r'\\w+')\n",
        "words = tokenizer.tokenize(text)"
      ]
    },
    {
      "cell_type": "code",
      "execution_count": 18,
      "metadata": {
        "id": "4lnZnbU3Yngi"
      },
      "outputs": [],
      "source": [
        "# get unique words\n",
        "unique_words = np.unique(words)\n",
        "unique_word_index = dict((c, i) for i, c in enumerate(unique_words))"
      ]
    },
    {
      "cell_type": "code",
      "execution_count": 19,
      "metadata": {
        "colab": {
          "base_uri": "https://localhost:8080/"
        },
        "id": "lExPYkbfYq5v",
        "outputId": "a7c680be-e5f0-4976-f347-a92e9ccd12a0"
      },
      "outputs": [
        {
          "output_type": "execute_result",
          "data": {
            "text/plain": [
              "6197"
            ]
          },
          "metadata": {},
          "execution_count": 19
        }
      ],
      "source": [
        "len(unique_words)"
      ]
    },
    {
      "cell_type": "code",
      "execution_count": 20,
      "metadata": {
        "colab": {
          "base_uri": "https://localhost:8080/"
        },
        "id": "k0sfpTTakRX0",
        "outputId": "a7337ef7-8ed7-4e02-fb2c-b78190021386"
      },
      "outputs": [
        {
          "output_type": "execute_result",
          "data": {
            "text/plain": [
              "array(['Shanghai', 'She', 'Shibata', 'Shibuya', 'Shiota', 'Shiraishi',\n",
              "       'Shiroki', 'Shirota', 'Shizuo', 'Shodoshima', 'Shop', 'Should',\n",
              "       'Shouldn', 'Shuji', 'Silence', 'Silicone', 'Similar', 'Since',\n",
              "       'Sir', 'Six'], dtype='<U16')"
            ]
          },
          "metadata": {},
          "execution_count": 20
        }
      ],
      "source": [
        "unique_words[1000:1020]"
      ]
    },
    {
      "cell_type": "markdown",
      "metadata": {
        "id": "T3scyhWpkcty"
      },
      "source": [
        "## Feature Engineering\n",
        "- Prepare the model input (x) and output (y)\n",
        "- Prepare word2id and id2word dictionaries"
      ]
    },
    {
      "cell_type": "code",
      "execution_count": 21,
      "metadata": {
        "colab": {
          "base_uri": "https://localhost:8080/"
        },
        "id": "Wh0Gzt5pY6cZ",
        "outputId": "006fa9f5-924c-49d8-ed26-b4292b31f6ca"
      },
      "outputs": [
        {
          "output_type": "stream",
          "name": "stdout",
          "text": [
            "['Hi', 'this', 'is', 'the', 'systems']\n",
            "development\n"
          ]
        }
      ],
      "source": [
        "# model input = prev_words\n",
        "# model output = next_words\n",
        "\n",
        "WORD_LENGTH = 5\n",
        "next_words = []\n",
        "prev_words = []\n",
        "for j in range(len(words) - WORD_LENGTH):\n",
        "     prev_words.append(words[j:j + WORD_LENGTH])\n",
        "     next_words.append(words[j + WORD_LENGTH])\n",
        "print(prev_words[0])\n",
        "print(next_words[0])"
      ]
    },
    {
      "cell_type": "code",
      "execution_count": 22,
      "metadata": {
        "id": "ALCqO8GjZy4k"
      },
      "outputs": [],
      "source": [
        "# convert features into numpy arrays\n",
        "X = np.zeros((len(prev_words), WORD_LENGTH, len(unique_words)), dtype=bool)\n",
        "Y = np.zeros((len(next_words), len(unique_words)), dtype=bool)\n",
        "# prepare word2id index\n",
        "for i, each_words in enumerate(prev_words):\n",
        "   for j, each_word in enumerate(each_words):\n",
        "        X[i, j, unique_word_index[each_word]] = 1\n",
        "   Y[i, unique_word_index[next_words[i]]] = 1\n",
        "word2id = unique_word_index"
      ]
    },
    {
      "cell_type": "code",
      "execution_count": 23,
      "metadata": {
        "id": "mFk-haqrdNGI"
      },
      "outputs": [],
      "source": [
        "# prepare id2word index ==> for inference\n",
        "id2word = {y:x for x,y in unique_word_index.items()}"
      ]
    },
    {
      "cell_type": "markdown",
      "metadata": {
        "id": "u3fDEotrkr5A"
      },
      "source": [
        "## Training"
      ]
    },
    {
      "cell_type": "code",
      "execution_count": 24,
      "metadata": {
        "id": "uRjvPHSOZ6Wj"
      },
      "outputs": [],
      "source": [
        "# build model\n",
        "model = Sequential()\n",
        "model.add(LSTM(128, input_shape=(WORD_LENGTH, len(unique_words))))\n",
        "model.add(Dense(len(unique_words)))\n",
        "model.add(Activation('softmax'))"
      ]
    },
    {
      "cell_type": "code",
      "execution_count": 25,
      "metadata": {
        "colab": {
          "base_uri": "https://localhost:8080/"
        },
        "id": "TFsRvxR8acv8",
        "outputId": "c97a3129-4ddb-40ec-c9ee-1c72240318ba"
      },
      "outputs": [
        {
          "output_type": "stream",
          "name": "stdout",
          "text": [
            "Epoch 1/100\n",
            "769/769 [==============================] - 16s 12ms/step - loss: 5.8374 - accuracy: 0.1256 - val_loss: 5.5766 - val_accuracy: 0.1629\n",
            "Epoch 2/100\n",
            "769/769 [==============================] - 9s 11ms/step - loss: 5.4303 - accuracy: 0.1797 - val_loss: 5.9845 - val_accuracy: 0.1706\n",
            "Epoch 3/100\n",
            "769/769 [==============================] - 9s 11ms/step - loss: 5.3909 - accuracy: 0.2084 - val_loss: 6.0799 - val_accuracy: 0.1781\n",
            "Epoch 4/100\n",
            "769/769 [==============================] - 9s 11ms/step - loss: 5.1424 - accuracy: 0.2396 - val_loss: 6.1607 - val_accuracy: 0.1756\n",
            "Epoch 5/100\n",
            "769/769 [==============================] - 9s 11ms/step - loss: 4.8766 - accuracy: 0.2762 - val_loss: 6.2780 - val_accuracy: 0.1640\n",
            "Epoch 6/100\n",
            "769/769 [==============================] - 9s 11ms/step - loss: 4.6221 - accuracy: 0.3148 - val_loss: 6.3553 - val_accuracy: 0.1648\n",
            "Epoch 7/100\n",
            "769/769 [==============================] - 9s 11ms/step - loss: 4.3895 - accuracy: 0.3546 - val_loss: 6.4276 - val_accuracy: 0.1592\n",
            "Epoch 8/100\n",
            "769/769 [==============================] - 9s 11ms/step - loss: 4.1940 - accuracy: 0.3922 - val_loss: 6.5450 - val_accuracy: 0.1491\n",
            "Epoch 9/100\n",
            "769/769 [==============================] - 9s 11ms/step - loss: 4.0298 - accuracy: 0.4272 - val_loss: 6.6134 - val_accuracy: 0.1495\n",
            "Epoch 10/100\n",
            "769/769 [==============================] - 9s 11ms/step - loss: 3.8964 - accuracy: 0.4566 - val_loss: 6.6963 - val_accuracy: 0.1414\n",
            "Epoch 11/100\n",
            "769/769 [==============================] - 9s 11ms/step - loss: 3.7762 - accuracy: 0.4848 - val_loss: 6.7639 - val_accuracy: 0.1366\n",
            "Epoch 12/100\n",
            "769/769 [==============================] - 9s 11ms/step - loss: 3.6588 - accuracy: 0.5080 - val_loss: 6.8531 - val_accuracy: 0.1372\n",
            "Epoch 13/100\n",
            "769/769 [==============================] - 9s 11ms/step - loss: 3.5644 - accuracy: 0.5290 - val_loss: 6.8603 - val_accuracy: 0.1352\n",
            "Epoch 14/100\n",
            "769/769 [==============================] - 9s 11ms/step - loss: 3.4838 - accuracy: 0.5478 - val_loss: 6.9604 - val_accuracy: 0.1316\n",
            "Epoch 15/100\n",
            "769/769 [==============================] - 9s 11ms/step - loss: 3.4149 - accuracy: 0.5622 - val_loss: 7.0262 - val_accuracy: 0.1339\n",
            "Epoch 16/100\n",
            "769/769 [==============================] - 9s 11ms/step - loss: 3.3512 - accuracy: 0.5759 - val_loss: 7.0769 - val_accuracy: 0.1250\n",
            "Epoch 17/100\n",
            "769/769 [==============================] - 9s 11ms/step - loss: 3.2992 - accuracy: 0.5880 - val_loss: 7.1215 - val_accuracy: 0.1242\n",
            "Epoch 18/100\n",
            "769/769 [==============================] - 9s 11ms/step - loss: 3.2407 - accuracy: 0.5985 - val_loss: 7.1271 - val_accuracy: 0.1202\n",
            "Epoch 19/100\n",
            "769/769 [==============================] - 9s 11ms/step - loss: 3.2003 - accuracy: 0.6071 - val_loss: 7.1953 - val_accuracy: 0.1179\n",
            "Epoch 20/100\n",
            "769/769 [==============================] - 9s 11ms/step - loss: 3.1675 - accuracy: 0.6146 - val_loss: 7.2285 - val_accuracy: 0.1207\n",
            "Epoch 21/100\n",
            "769/769 [==============================] - 9s 11ms/step - loss: 3.1238 - accuracy: 0.6231 - val_loss: 7.2272 - val_accuracy: 0.1217\n",
            "Epoch 22/100\n",
            "769/769 [==============================] - 9s 12ms/step - loss: 3.0870 - accuracy: 0.6301 - val_loss: 7.2705 - val_accuracy: 0.1173\n",
            "Epoch 23/100\n",
            "769/769 [==============================] - 9s 11ms/step - loss: 3.0589 - accuracy: 0.6361 - val_loss: 7.2823 - val_accuracy: 0.1182\n",
            "Epoch 24/100\n",
            "769/769 [==============================] - 9s 11ms/step - loss: 3.0310 - accuracy: 0.6404 - val_loss: 7.2930 - val_accuracy: 0.1169\n",
            "Epoch 25/100\n",
            "769/769 [==============================] - 9s 11ms/step - loss: 3.0010 - accuracy: 0.6462 - val_loss: 7.3095 - val_accuracy: 0.1142\n",
            "Epoch 26/100\n",
            "769/769 [==============================] - 9s 11ms/step - loss: 2.9760 - accuracy: 0.6515 - val_loss: 7.3675 - val_accuracy: 0.1138\n",
            "Epoch 27/100\n",
            "769/769 [==============================] - 9s 11ms/step - loss: 2.9485 - accuracy: 0.6558 - val_loss: 7.3418 - val_accuracy: 0.1177\n",
            "Epoch 28/100\n",
            "769/769 [==============================] - 9s 11ms/step - loss: 2.9289 - accuracy: 0.6601 - val_loss: 7.3826 - val_accuracy: 0.1095\n",
            "Epoch 29/100\n",
            "769/769 [==============================] - 9s 12ms/step - loss: 2.9097 - accuracy: 0.6627 - val_loss: 7.4096 - val_accuracy: 0.1177\n",
            "Epoch 30/100\n",
            "769/769 [==============================] - 9s 11ms/step - loss: 2.8844 - accuracy: 0.6683 - val_loss: 7.3625 - val_accuracy: 0.1161\n",
            "Epoch 31/100\n",
            "769/769 [==============================] - 9s 11ms/step - loss: 2.8808 - accuracy: 0.6698 - val_loss: 7.3680 - val_accuracy: 0.1179\n",
            "Epoch 32/100\n",
            "769/769 [==============================] - 9s 11ms/step - loss: 2.8587 - accuracy: 0.6736 - val_loss: 7.3844 - val_accuracy: 0.1140\n",
            "Epoch 33/100\n",
            "769/769 [==============================] - 9s 11ms/step - loss: 2.8487 - accuracy: 0.6755 - val_loss: 7.3976 - val_accuracy: 0.1148\n",
            "Epoch 34/100\n",
            "769/769 [==============================] - 9s 11ms/step - loss: 2.8313 - accuracy: 0.6778 - val_loss: 7.4134 - val_accuracy: 0.1128\n",
            "Epoch 35/100\n",
            "769/769 [==============================] - 9s 11ms/step - loss: 2.8238 - accuracy: 0.6803 - val_loss: 7.4288 - val_accuracy: 0.1146\n",
            "Epoch 36/100\n",
            "769/769 [==============================] - 9s 11ms/step - loss: 2.8041 - accuracy: 0.6829 - val_loss: 7.4112 - val_accuracy: 0.1163\n",
            "Epoch 37/100\n",
            "769/769 [==============================] - 9s 12ms/step - loss: 2.7984 - accuracy: 0.6839 - val_loss: 7.4106 - val_accuracy: 0.1153\n",
            "Epoch 38/100\n",
            "769/769 [==============================] - 9s 11ms/step - loss: 2.7882 - accuracy: 0.6869 - val_loss: 7.4144 - val_accuracy: 0.1150\n",
            "Epoch 39/100\n",
            "769/769 [==============================] - 9s 11ms/step - loss: 2.7680 - accuracy: 0.6883 - val_loss: 7.4398 - val_accuracy: 0.1061\n",
            "Epoch 40/100\n",
            "769/769 [==============================] - 9s 11ms/step - loss: 2.7681 - accuracy: 0.6894 - val_loss: 7.4142 - val_accuracy: 0.1109\n",
            "Epoch 41/100\n",
            "769/769 [==============================] - 9s 12ms/step - loss: 2.7542 - accuracy: 0.6915 - val_loss: 7.4435 - val_accuracy: 0.1090\n",
            "Epoch 42/100\n",
            "769/769 [==============================] - 9s 11ms/step - loss: 2.7487 - accuracy: 0.6933 - val_loss: 7.4076 - val_accuracy: 0.1122\n",
            "Epoch 43/100\n",
            "769/769 [==============================] - 9s 12ms/step - loss: 2.7471 - accuracy: 0.6941 - val_loss: 7.3654 - val_accuracy: 0.1153\n",
            "Epoch 44/100\n",
            "769/769 [==============================] - 9s 11ms/step - loss: 2.7324 - accuracy: 0.6957 - val_loss: 7.4487 - val_accuracy: 0.1109\n",
            "Epoch 45/100\n",
            "769/769 [==============================] - 9s 11ms/step - loss: 2.7221 - accuracy: 0.6977 - val_loss: 7.4353 - val_accuracy: 0.1074\n",
            "Epoch 46/100\n",
            "769/769 [==============================] - 9s 11ms/step - loss: 2.7202 - accuracy: 0.6975 - val_loss: 7.3927 - val_accuracy: 0.1121\n",
            "Epoch 47/100\n",
            "769/769 [==============================] - 9s 11ms/step - loss: 2.7156 - accuracy: 0.6990 - val_loss: 7.4270 - val_accuracy: 0.1122\n",
            "Epoch 48/100\n",
            "769/769 [==============================] - 9s 11ms/step - loss: 2.7135 - accuracy: 0.6998 - val_loss: 7.4199 - val_accuracy: 0.1134\n",
            "Epoch 49/100\n",
            "769/769 [==============================] - 9s 11ms/step - loss: 2.7016 - accuracy: 0.7016 - val_loss: 7.4130 - val_accuracy: 0.1128\n",
            "Epoch 50/100\n",
            "769/769 [==============================] - 9s 11ms/step - loss: 2.6981 - accuracy: 0.7021 - val_loss: 7.4210 - val_accuracy: 0.1117\n",
            "Epoch 51/100\n",
            "769/769 [==============================] - 9s 11ms/step - loss: 2.6913 - accuracy: 0.7027 - val_loss: 7.4183 - val_accuracy: 0.1076\n",
            "Epoch 52/100\n",
            "769/769 [==============================] - 9s 11ms/step - loss: 2.6866 - accuracy: 0.7045 - val_loss: 7.4473 - val_accuracy: 0.1068\n",
            "Epoch 53/100\n",
            "769/769 [==============================] - 9s 11ms/step - loss: 2.6862 - accuracy: 0.7039 - val_loss: 7.4194 - val_accuracy: 0.1109\n",
            "Epoch 54/100\n",
            "769/769 [==============================] - 9s 11ms/step - loss: 2.6735 - accuracy: 0.7055 - val_loss: 7.4484 - val_accuracy: 0.1095\n",
            "Epoch 55/100\n",
            "769/769 [==============================] - 9s 11ms/step - loss: 2.6765 - accuracy: 0.7068 - val_loss: 7.3852 - val_accuracy: 0.1103\n",
            "Epoch 56/100\n",
            "769/769 [==============================] - 9s 11ms/step - loss: 2.6651 - accuracy: 0.7070 - val_loss: 7.4463 - val_accuracy: 0.1111\n",
            "Epoch 57/100\n",
            "769/769 [==============================] - 9s 11ms/step - loss: 2.6592 - accuracy: 0.7100 - val_loss: 7.4392 - val_accuracy: 0.1115\n",
            "Epoch 58/100\n",
            "769/769 [==============================] - 9s 11ms/step - loss: 2.6635 - accuracy: 0.7082 - val_loss: 7.4372 - val_accuracy: 0.1082\n",
            "Epoch 59/100\n",
            "769/769 [==============================] - 9s 11ms/step - loss: 2.6560 - accuracy: 0.7100 - val_loss: 7.3935 - val_accuracy: 0.1113\n",
            "Epoch 60/100\n",
            "769/769 [==============================] - 9s 11ms/step - loss: 2.6503 - accuracy: 0.7108 - val_loss: 7.4343 - val_accuracy: 0.1122\n",
            "Epoch 61/100\n",
            "769/769 [==============================] - 9s 11ms/step - loss: 2.6452 - accuracy: 0.7113 - val_loss: 7.4470 - val_accuracy: 0.1111\n",
            "Epoch 62/100\n",
            "769/769 [==============================] - 9s 12ms/step - loss: 2.6462 - accuracy: 0.7117 - val_loss: 7.3906 - val_accuracy: 0.1142\n",
            "Epoch 63/100\n",
            "769/769 [==============================] - 9s 11ms/step - loss: 2.6341 - accuracy: 0.7133 - val_loss: 7.4257 - val_accuracy: 0.1101\n",
            "Epoch 64/100\n",
            "769/769 [==============================] - 9s 11ms/step - loss: 2.6289 - accuracy: 0.7145 - val_loss: 7.4273 - val_accuracy: 0.1103\n",
            "Epoch 65/100\n",
            "769/769 [==============================] - 9s 11ms/step - loss: 2.6301 - accuracy: 0.7135 - val_loss: 7.4114 - val_accuracy: 0.1134\n",
            "Epoch 66/100\n",
            "769/769 [==============================] - 9s 11ms/step - loss: 2.6306 - accuracy: 0.7142 - val_loss: 7.4005 - val_accuracy: 0.1088\n",
            "Epoch 67/100\n",
            "769/769 [==============================] - 9s 11ms/step - loss: 2.6248 - accuracy: 0.7146 - val_loss: 7.4181 - val_accuracy: 0.1121\n",
            "Epoch 68/100\n",
            "769/769 [==============================] - 9s 11ms/step - loss: 2.6192 - accuracy: 0.7155 - val_loss: 7.4105 - val_accuracy: 0.1157\n",
            "Epoch 69/100\n",
            "769/769 [==============================] - 9s 12ms/step - loss: 2.6153 - accuracy: 0.7165 - val_loss: 7.4541 - val_accuracy: 0.1117\n",
            "Epoch 70/100\n",
            "769/769 [==============================] - 9s 11ms/step - loss: 2.6140 - accuracy: 0.7158 - val_loss: 7.4037 - val_accuracy: 0.1155\n",
            "Epoch 71/100\n",
            "769/769 [==============================] - 9s 11ms/step - loss: 2.6108 - accuracy: 0.7168 - val_loss: 7.4022 - val_accuracy: 0.1111\n",
            "Epoch 72/100\n",
            "769/769 [==============================] - 9s 11ms/step - loss: 2.6109 - accuracy: 0.7165 - val_loss: 7.4183 - val_accuracy: 0.1130\n",
            "Epoch 73/100\n",
            "769/769 [==============================] - 9s 12ms/step - loss: 2.6038 - accuracy: 0.7172 - val_loss: 7.3974 - val_accuracy: 0.1155\n",
            "Epoch 74/100\n",
            "769/769 [==============================] - 9s 12ms/step - loss: 2.6011 - accuracy: 0.7181 - val_loss: 7.4054 - val_accuracy: 0.1095\n",
            "Epoch 75/100\n",
            "769/769 [==============================] - 9s 12ms/step - loss: 2.6010 - accuracy: 0.7177 - val_loss: 7.3819 - val_accuracy: 0.1111\n",
            "Epoch 76/100\n",
            "769/769 [==============================] - 9s 12ms/step - loss: 2.5979 - accuracy: 0.7193 - val_loss: 7.3981 - val_accuracy: 0.1151\n",
            "Epoch 77/100\n",
            "769/769 [==============================] - 9s 12ms/step - loss: 2.5881 - accuracy: 0.7196 - val_loss: 7.4192 - val_accuracy: 0.1115\n",
            "Epoch 78/100\n",
            "769/769 [==============================] - 9s 12ms/step - loss: 2.5909 - accuracy: 0.7197 - val_loss: 7.3801 - val_accuracy: 0.1124\n",
            "Epoch 79/100\n",
            "769/769 [==============================] - 9s 11ms/step - loss: 2.5852 - accuracy: 0.7202 - val_loss: 7.3871 - val_accuracy: 0.1111\n",
            "Epoch 80/100\n",
            "769/769 [==============================] - 9s 11ms/step - loss: 2.5799 - accuracy: 0.7210 - val_loss: 7.3853 - val_accuracy: 0.1121\n",
            "Epoch 81/100\n",
            "769/769 [==============================] - 9s 12ms/step - loss: 2.5842 - accuracy: 0.7211 - val_loss: 7.4222 - val_accuracy: 0.1078\n",
            "Epoch 82/100\n",
            "769/769 [==============================] - 9s 12ms/step - loss: 2.5817 - accuracy: 0.7219 - val_loss: 7.4097 - val_accuracy: 0.1105\n",
            "Epoch 83/100\n",
            "769/769 [==============================] - 9s 12ms/step - loss: 2.5817 - accuracy: 0.7220 - val_loss: 7.4080 - val_accuracy: 0.1124\n",
            "Epoch 84/100\n",
            "769/769 [==============================] - 9s 11ms/step - loss: 2.5761 - accuracy: 0.7214 - val_loss: 7.3868 - val_accuracy: 0.1148\n",
            "Epoch 85/100\n",
            "769/769 [==============================] - 9s 12ms/step - loss: 2.5747 - accuracy: 0.7216 - val_loss: 7.3708 - val_accuracy: 0.1076\n",
            "Epoch 86/100\n",
            "769/769 [==============================] - 9s 11ms/step - loss: 2.5765 - accuracy: 0.7213 - val_loss: 7.3747 - val_accuracy: 0.1140\n",
            "Epoch 87/100\n",
            "769/769 [==============================] - 9s 11ms/step - loss: 2.5713 - accuracy: 0.7233 - val_loss: 7.3761 - val_accuracy: 0.1109\n",
            "Epoch 88/100\n",
            "769/769 [==============================] - 9s 11ms/step - loss: 2.5685 - accuracy: 0.7225 - val_loss: 7.4245 - val_accuracy: 0.1101\n",
            "Epoch 89/100\n",
            "769/769 [==============================] - 9s 11ms/step - loss: 2.5695 - accuracy: 0.7230 - val_loss: 7.3967 - val_accuracy: 0.1103\n",
            "Epoch 90/100\n",
            "769/769 [==============================] - 9s 11ms/step - loss: 2.5676 - accuracy: 0.7232 - val_loss: 7.3979 - val_accuracy: 0.1105\n",
            "Epoch 91/100\n",
            "769/769 [==============================] - 9s 11ms/step - loss: 2.5623 - accuracy: 0.7235 - val_loss: 7.4205 - val_accuracy: 0.1105\n",
            "Epoch 92/100\n",
            "769/769 [==============================] - 9s 11ms/step - loss: 2.5590 - accuracy: 0.7245 - val_loss: 7.4218 - val_accuracy: 0.1090\n",
            "Epoch 93/100\n",
            "769/769 [==============================] - 9s 11ms/step - loss: 2.5621 - accuracy: 0.7244 - val_loss: 7.4191 - val_accuracy: 0.1115\n",
            "Epoch 94/100\n",
            "769/769 [==============================] - 9s 11ms/step - loss: 2.5573 - accuracy: 0.7255 - val_loss: 7.4328 - val_accuracy: 0.1105\n",
            "Epoch 95/100\n",
            "769/769 [==============================] - 9s 11ms/step - loss: 2.5587 - accuracy: 0.7237 - val_loss: 7.4428 - val_accuracy: 0.1103\n",
            "Epoch 96/100\n",
            "769/769 [==============================] - 9s 11ms/step - loss: 2.5602 - accuracy: 0.7251 - val_loss: 7.4180 - val_accuracy: 0.1084\n",
            "Epoch 97/100\n",
            "769/769 [==============================] - 9s 11ms/step - loss: 2.5500 - accuracy: 0.7251 - val_loss: 7.4077 - val_accuracy: 0.1163\n",
            "Epoch 98/100\n",
            "769/769 [==============================] - 9s 11ms/step - loss: 2.5541 - accuracy: 0.7256 - val_loss: 7.3866 - val_accuracy: 0.1142\n",
            "Epoch 99/100\n",
            "769/769 [==============================] - 9s 12ms/step - loss: 2.5454 - accuracy: 0.7263 - val_loss: 7.4182 - val_accuracy: 0.1088\n",
            "Epoch 100/100\n",
            "769/769 [==============================] - 9s 11ms/step - loss: 2.5502 - accuracy: 0.7263 - val_loss: 7.4438 - val_accuracy: 0.1117\n"
          ]
        }
      ],
      "source": [
        "# train model\n",
        "optimizer = RMSprop(learning_rate=0.01)\n",
        "model.compile(loss='categorical_crossentropy', optimizer=optimizer, metrics=['accuracy'])\n",
        "history = model.fit(X, Y, validation_split=0.05, batch_size=128, epochs=100, shuffle=True).history"
      ]
    },
    {
      "cell_type": "code",
      "execution_count": 26,
      "metadata": {
        "id": "WZlNoGh9atZb"
      },
      "outputs": [],
      "source": [
        "# save model\n",
        "model.save('next_word_model.h5')\n",
        "pickle.dump(history, open(\"history.p\", \"wb\"))"
      ]
    },
    {
      "cell_type": "code",
      "execution_count": 27,
      "metadata": {
        "colab": {
          "base_uri": "https://localhost:8080/"
        },
        "id": "kuFdNlQEblgJ",
        "outputId": "6ddc56fd-70ff-43d4-eb0d-410fcd68c91b"
      },
      "outputs": [
        {
          "output_type": "execute_result",
          "data": {
            "text/plain": [
              "{'accuracy': [0.12561781704425812,\n",
              "  0.17970100045204163,\n",
              "  0.20835959911346436,\n",
              "  0.23961150646209717,\n",
              "  0.27618223428726196,\n",
              "  0.3147869408130646,\n",
              "  0.3545713424682617,\n",
              "  0.39215904474258423,\n",
              "  0.42722466588020325,\n",
              "  0.45655447244644165,\n",
              "  0.48480626940727234,\n",
              "  0.5080239772796631,\n",
              "  0.5290348529815674,\n",
              "  0.5478084087371826,\n",
              "  0.5622190833091736,\n",
              "  0.5759483575820923,\n",
              "  0.588009774684906,\n",
              "  0.5985457301139832,\n",
              "  0.6070578694343567,\n",
              "  0.6145632266998291,\n",
              "  0.623095691204071,\n",
              "  0.6300925612449646,\n",
              "  0.6361232399940491,\n",
              "  0.6403539180755615,\n",
              "  0.6461710333824158,\n",
              "  0.6515305638313293,\n",
              "  0.6557612419128418,\n",
              "  0.6600732207298279,\n",
              "  0.6627072095870972,\n",
              "  0.6683412790298462,\n",
              "  0.6697549223899841,\n",
              "  0.6735787391662598,\n",
              "  0.6754500269889832,\n",
              "  0.6777890920639038,\n",
              "  0.6803315281867981,\n",
              "  0.682914674282074,\n",
              "  0.6839418411254883,\n",
              "  0.6868504285812378,\n",
              "  0.688294529914856,\n",
              "  0.6893725395202637,\n",
              "  0.6914980411529541,\n",
              "  0.6933285593986511,\n",
              "  0.6940709948539734,\n",
              "  0.6957286596298218,\n",
              "  0.6976812481880188,\n",
              "  0.6974575519561768,\n",
              "  0.6989626884460449,\n",
              "  0.6998474597930908,\n",
              "  0.701637327671051,\n",
              "  0.7020746469497681,\n",
              "  0.7027458548545837,\n",
              "  0.7044950723648071,\n",
              "  0.7038543820381165,\n",
              "  0.7055323719978333,\n",
              "  0.7068036198616028,\n",
              "  0.7069968581199646,\n",
              "  0.7099766135215759,\n",
              "  0.7081562280654907,\n",
              "  0.7099868059158325,\n",
              "  0.7107800245285034,\n",
              "  0.7113292217254639,\n",
              "  0.7116749882698059,\n",
              "  0.7133326530456543,\n",
              "  0.7144615054130554,\n",
              "  0.7135258913040161,\n",
              "  0.7141665816307068,\n",
              "  0.7145937085151672,\n",
              "  0.7154784798622131,\n",
              "  0.716454803943634,\n",
              "  0.7157937288284302,\n",
              "  0.7168412208557129,\n",
              "  0.716454803943634,\n",
              "  0.7171666622161865,\n",
              "  0.718061625957489,\n",
              "  0.717654824256897,\n",
              "  0.7192515134811401,\n",
              "  0.7195769548416138,\n",
              "  0.7197498083114624,\n",
              "  0.7201769351959229,\n",
              "  0.7209905385971069,\n",
              "  0.7211024165153503,\n",
              "  0.7219464778900146,\n",
              "  0.7219566702842712,\n",
              "  0.721427857875824,\n",
              "  0.7216109037399292,\n",
              "  0.7212956547737122,\n",
              "  0.7232584357261658,\n",
              "  0.7225261926651001,\n",
              "  0.7229838371276855,\n",
              "  0.7232380509376526,\n",
              "  0.723471999168396,\n",
              "  0.7245092988014221,\n",
              "  0.7244279384613037,\n",
              "  0.7254957556724548,\n",
              "  0.7236855626106262,\n",
              "  0.7250890135765076,\n",
              "  0.7250890135765076,\n",
              "  0.7256483435630798,\n",
              "  0.7262890338897705,\n",
              "  0.7263296842575073],\n",
              " 'loss': [5.837381839752197,\n",
              "  5.4302897453308105,\n",
              "  5.390870571136475,\n",
              "  5.142399787902832,\n",
              "  4.876615524291992,\n",
              "  4.622133255004883,\n",
              "  4.389534950256348,\n",
              "  4.194002628326416,\n",
              "  4.029757499694824,\n",
              "  3.8964319229125977,\n",
              "  3.776175022125244,\n",
              "  3.6588268280029297,\n",
              "  3.56440806388855,\n",
              "  3.483800172805786,\n",
              "  3.4148645401000977,\n",
              "  3.3511781692504883,\n",
              "  3.299194097518921,\n",
              "  3.2407045364379883,\n",
              "  3.2002594470977783,\n",
              "  3.167518138885498,\n",
              "  3.1238200664520264,\n",
              "  3.086970567703247,\n",
              "  3.0588788986206055,\n",
              "  3.0309674739837646,\n",
              "  3.0010249614715576,\n",
              "  2.9759674072265625,\n",
              "  2.9484827518463135,\n",
              "  2.928887367248535,\n",
              "  2.909722089767456,\n",
              "  2.8843772411346436,\n",
              "  2.880802869796753,\n",
              "  2.8586766719818115,\n",
              "  2.848712205886841,\n",
              "  2.8312551975250244,\n",
              "  2.8237812519073486,\n",
              "  2.804090738296509,\n",
              "  2.798445701599121,\n",
              "  2.78822660446167,\n",
              "  2.7680320739746094,\n",
              "  2.7681305408477783,\n",
              "  2.7541983127593994,\n",
              "  2.7486934661865234,\n",
              "  2.747084856033325,\n",
              "  2.7323999404907227,\n",
              "  2.7220559120178223,\n",
              "  2.7201919555664062,\n",
              "  2.7155842781066895,\n",
              "  2.7134592533111572,\n",
              "  2.7016425132751465,\n",
              "  2.6980810165405273,\n",
              "  2.6913156509399414,\n",
              "  2.6866374015808105,\n",
              "  2.686155080795288,\n",
              "  2.673491954803467,\n",
              "  2.6764981746673584,\n",
              "  2.6651151180267334,\n",
              "  2.6592369079589844,\n",
              "  2.6634650230407715,\n",
              "  2.6559932231903076,\n",
              "  2.650325298309326,\n",
              "  2.6452434062957764,\n",
              "  2.646150827407837,\n",
              "  2.6341054439544678,\n",
              "  2.628851890563965,\n",
              "  2.6300666332244873,\n",
              "  2.6305737495422363,\n",
              "  2.6247711181640625,\n",
              "  2.6192269325256348,\n",
              "  2.615272283554077,\n",
              "  2.6139745712280273,\n",
              "  2.610811233520508,\n",
              "  2.610882043838501,\n",
              "  2.6038219928741455,\n",
              "  2.6011340618133545,\n",
              "  2.6010403633117676,\n",
              "  2.597899913787842,\n",
              "  2.588064670562744,\n",
              "  2.5909042358398438,\n",
              "  2.585167646408081,\n",
              "  2.579923391342163,\n",
              "  2.584178924560547,\n",
              "  2.5816547870635986,\n",
              "  2.5817418098449707,\n",
              "  2.576066493988037,\n",
              "  2.574704647064209,\n",
              "  2.576463222503662,\n",
              "  2.571293830871582,\n",
              "  2.5684568881988525,\n",
              "  2.5695204734802246,\n",
              "  2.5675787925720215,\n",
              "  2.5622568130493164,\n",
              "  2.558950185775757,\n",
              "  2.562124252319336,\n",
              "  2.557250499725342,\n",
              "  2.558730125427246,\n",
              "  2.560194253921509,\n",
              "  2.5500473976135254,\n",
              "  2.554094076156616,\n",
              "  2.545384407043457,\n",
              "  2.5502073764801025],\n",
              " 'val_accuracy': [0.16286708414554596,\n",
              "  0.17059504985809326,\n",
              "  0.17812983691692352,\n",
              "  0.1756182312965393,\n",
              "  0.16402627527713776,\n",
              "  0.16479907929897308,\n",
              "  0.15919628739356995,\n",
              "  0.14914992451667786,\n",
              "  0.14953632652759552,\n",
              "  0.14142194390296936,\n",
              "  0.13659195601940155,\n",
              "  0.13717156648635864,\n",
              "  0.13523957133293152,\n",
              "  0.1315687745809555,\n",
              "  0.1338871717453003,\n",
              "  0.125,\n",
              "  0.12422720342874527,\n",
              "  0.12017001211643219,\n",
              "  0.117851622402668,\n",
              "  0.12074961513280869,\n",
              "  0.12171561270952225,\n",
              "  0.1172720268368721,\n",
              "  0.11823802441358566,\n",
              "  0.11688562482595444,\n",
              "  0.11418083310127258,\n",
              "  0.11379443854093552,\n",
              "  0.11765842139720917,\n",
              "  0.1095440462231636,\n",
              "  0.11765842139720917,\n",
              "  0.11611282825469971,\n",
              "  0.117851622402668,\n",
              "  0.11398763209581375,\n",
              "  0.11476043611764908,\n",
              "  0.11282844096422195,\n",
              "  0.11456723511219025,\n",
              "  0.11630602926015854,\n",
              "  0.11534003168344498,\n",
              "  0.11495362967252731,\n",
              "  0.10606645792722702,\n",
              "  0.11089644581079483,\n",
              "  0.1089644506573677,\n",
              "  0.11224883794784546,\n",
              "  0.11534003168344498,\n",
              "  0.11089644581079483,\n",
              "  0.10741885751485825,\n",
              "  0.11205564439296722,\n",
              "  0.11224883794784546,\n",
              "  0.11340803653001785,\n",
              "  0.11282844096422195,\n",
              "  0.11166924238204956,\n",
              "  0.10761205852031708,\n",
              "  0.10683925449848175,\n",
              "  0.11089644581079483,\n",
              "  0.1095440462231636,\n",
              "  0.11031685024499893,\n",
              "  0.11108964681625366,\n",
              "  0.11147604137659073,\n",
              "  0.10819165408611298,\n",
              "  0.1112828403711319,\n",
              "  0.11224883794784546,\n",
              "  0.11108964681625366,\n",
              "  0.11418083310127258,\n",
              "  0.1101236492395401,\n",
              "  0.11031685024499893,\n",
              "  0.11340803653001785,\n",
              "  0.10877124965190887,\n",
              "  0.11205564439296722,\n",
              "  0.11572642624378204,\n",
              "  0.11166924238204956,\n",
              "  0.11553323268890381,\n",
              "  0.11108964681625366,\n",
              "  0.11302164196968079,\n",
              "  0.11553323268890381,\n",
              "  0.1095440462231636,\n",
              "  0.11108964681625366,\n",
              "  0.11514683067798615,\n",
              "  0.11147604137659073,\n",
              "  0.11244203895330429,\n",
              "  0.11108964681625366,\n",
              "  0.11205564439296722,\n",
              "  0.10780525207519531,\n",
              "  0.11051004379987717,\n",
              "  0.11244203895330429,\n",
              "  0.11476043611764908,\n",
              "  0.10761205852031708,\n",
              "  0.11398763209581375,\n",
              "  0.11089644581079483,\n",
              "  0.1101236492395401,\n",
              "  0.11031685024499893,\n",
              "  0.11051004379987717,\n",
              "  0.11051004379987717,\n",
              "  0.1089644506573677,\n",
              "  0.11147604137659073,\n",
              "  0.11051004379987717,\n",
              "  0.11031685024499893,\n",
              "  0.10838485509157181,\n",
              "  0.11630602926015854,\n",
              "  0.11418083310127258,\n",
              "  0.10877124965190887,\n",
              "  0.11166924238204956],\n",
              " 'val_loss': [5.576621055603027,\n",
              "  5.984477996826172,\n",
              "  6.079860687255859,\n",
              "  6.160689830780029,\n",
              "  6.277978897094727,\n",
              "  6.355294227600098,\n",
              "  6.427635669708252,\n",
              "  6.545046329498291,\n",
              "  6.613394260406494,\n",
              "  6.696285247802734,\n",
              "  6.763923168182373,\n",
              "  6.8531389236450195,\n",
              "  6.860279083251953,\n",
              "  6.960383415222168,\n",
              "  7.026198863983154,\n",
              "  7.0769453048706055,\n",
              "  7.121461868286133,\n",
              "  7.127063274383545,\n",
              "  7.195329189300537,\n",
              "  7.228497505187988,\n",
              "  7.2271728515625,\n",
              "  7.270508766174316,\n",
              "  7.282309532165527,\n",
              "  7.2930216789245605,\n",
              "  7.30946159362793,\n",
              "  7.367466926574707,\n",
              "  7.341837406158447,\n",
              "  7.382569313049316,\n",
              "  7.409635543823242,\n",
              "  7.362498760223389,\n",
              "  7.367976188659668,\n",
              "  7.384416103363037,\n",
              "  7.397568702697754,\n",
              "  7.41335391998291,\n",
              "  7.428836345672607,\n",
              "  7.411210536956787,\n",
              "  7.410610675811768,\n",
              "  7.414394378662109,\n",
              "  7.439828395843506,\n",
              "  7.4141845703125,\n",
              "  7.44352912902832,\n",
              "  7.4075751304626465,\n",
              "  7.3653740882873535,\n",
              "  7.4487385749816895,\n",
              "  7.435308456420898,\n",
              "  7.3926897048950195,\n",
              "  7.4269795417785645,\n",
              "  7.419851779937744,\n",
              "  7.412981033325195,\n",
              "  7.421016216278076,\n",
              "  7.4183454513549805,\n",
              "  7.447295188903809,\n",
              "  7.419397354125977,\n",
              "  7.44840145111084,\n",
              "  7.38521146774292,\n",
              "  7.446255683898926,\n",
              "  7.439186096191406,\n",
              "  7.437207221984863,\n",
              "  7.393507957458496,\n",
              "  7.434262275695801,\n",
              "  7.446977138519287,\n",
              "  7.3906331062316895,\n",
              "  7.425724506378174,\n",
              "  7.42730188369751,\n",
              "  7.411382675170898,\n",
              "  7.400534629821777,\n",
              "  7.41809606552124,\n",
              "  7.410472393035889,\n",
              "  7.454070091247559,\n",
              "  7.403693199157715,\n",
              "  7.402222156524658,\n",
              "  7.4183197021484375,\n",
              "  7.397441864013672,\n",
              "  7.405394077301025,\n",
              "  7.381860733032227,\n",
              "  7.398138046264648,\n",
              "  7.419219970703125,\n",
              "  7.380092620849609,\n",
              "  7.387081146240234,\n",
              "  7.385256290435791,\n",
              "  7.422224521636963,\n",
              "  7.40972375869751,\n",
              "  7.4080376625061035,\n",
              "  7.386839389801025,\n",
              "  7.370791912078857,\n",
              "  7.374655723571777,\n",
              "  7.376140117645264,\n",
              "  7.424508094787598,\n",
              "  7.3967204093933105,\n",
              "  7.397905349731445,\n",
              "  7.420498371124268,\n",
              "  7.4218010902404785,\n",
              "  7.419121265411377,\n",
              "  7.432833194732666,\n",
              "  7.442843914031982,\n",
              "  7.418032169342041,\n",
              "  7.407680988311768,\n",
              "  7.386555194854736,\n",
              "  7.418234348297119,\n",
              "  7.443763256072998]}"
            ]
          },
          "metadata": {},
          "execution_count": 27
        }
      ],
      "source": [
        "history"
      ]
    },
    {
      "cell_type": "markdown",
      "metadata": {
        "id": "MRZRy-ODkvOC"
      },
      "source": [
        "## Load Trained Model"
      ]
    },
    {
      "cell_type": "code",
      "execution_count": 28,
      "metadata": {
        "id": "Apypo9qVjnOX"
      },
      "outputs": [],
      "source": [
        "# load model\n",
        "model = load_model('/content/next_word_model.h5')"
      ]
    },
    {
      "cell_type": "markdown",
      "metadata": {
        "id": "zU3RVvo0k0g9"
      },
      "source": [
        "## Predict next words"
      ]
    },
    {
      "cell_type": "code",
      "execution_count": 29,
      "metadata": {
        "id": "zfCs0Z9VbxPI"
      },
      "outputs": [],
      "source": [
        "def prepare_input(text):\n",
        "    words = tokenizer.tokenize(text)\n",
        "    x = np.zeros((1, WORD_LENGTH, len(unique_words)))\n",
        "    for t, word in enumerate(words):\n",
        "        x[0, t, word2id[word]] = 1.\n",
        "        \n",
        "    return x"
      ]
    },
    {
      "cell_type": "code",
      "execution_count": 30,
      "metadata": {
        "id": "-QOIx354fOQl"
      },
      "outputs": [],
      "source": [
        "def sample(preds, top_n=3):\n",
        "    preds = np.asarray(preds).astype('float64')\n",
        "    preds = np.log(preds)\n",
        "    exp_preds = np.exp(preds)\n",
        "    preds = exp_preds / np.sum(exp_preds)\n",
        "\n",
        "    return heapq.nlargest(top_n, range(len(preds)), preds.take)"
      ]
    },
    {
      "cell_type": "code",
      "execution_count": 31,
      "metadata": {
        "id": "YoQssJddf5uU"
      },
      "outputs": [],
      "source": [
        "def predict_completion(text):\n",
        "    original_text = text\n",
        "    generated = text\n",
        "    completion = ''\n",
        "    while True:\n",
        "        x = prepare_input(text)\n",
        "        preds = model.predict(x, verbose=0)[0]\n",
        "        next_index = sample(preds, top_n=1)[0]\n",
        "        next_word = id2word[next_index]\n",
        "        text = text[1:] + next_word\n",
        "        completion += next_word\n",
        "        \n",
        "        if len(original_text + completion) + 2 > len(original_text) and next_word == ' ':\n",
        "            return completion"
      ]
    },
    {
      "cell_type": "code",
      "execution_count": 32,
      "metadata": {
        "id": "pPO74Nvpha0B"
      },
      "outputs": [],
      "source": [
        "def predict_next_word(text, n=3):\n",
        "    x = prepare_input(text)\n",
        "    preds = model.predict(x, verbose=0)[0]\n",
        "    next_indices = sample(preds, n)\n",
        "    return [id2word[idx] for idx in next_indices]"
      ]
    },
    {
      "cell_type": "markdown",
      "metadata": {
        "id": "iuXyA-u84tVs"
      },
      "source": [
        "### Testing"
      ]
    },
    {
      "cell_type": "code",
      "execution_count": 33,
      "metadata": {
        "colab": {
          "base_uri": "https://localhost:8080/"
        },
        "id": "CfAJLlR0hj3k",
        "outputId": "89ab9c21-7d26-4dc4-bc35-c629642608fd"
      },
      "outputs": [
        {
          "output_type": "stream",
          "name": "stdout",
          "text": [
            "['with', 'this', 'here']\n"
          ]
        }
      ],
      "source": [
        "input=\"I look forward to working\"\n",
        "print(predict_next_word(input))"
      ]
    },
    {
      "cell_type": "code",
      "execution_count": 34,
      "metadata": {
        "colab": {
          "base_uri": "https://localhost:8080/"
        },
        "id": "z4D-lim2lopa",
        "outputId": "da21b302-f1a2-4c8f-abb7-c2a2314c9cba"
      },
      "outputs": [
        {
          "output_type": "stream",
          "name": "stdout",
          "text": [
            "['with', 'this', 'here', 'pretty', 'They']\n"
          ]
        }
      ],
      "source": [
        "input=\"I look forward to working\"\n",
        "print(predict_next_word(input, 5))"
      ]
    },
    {
      "cell_type": "code",
      "execution_count": 35,
      "metadata": {
        "colab": {
          "base_uri": "https://localhost:8080/"
        },
        "id": "Ol85UKKLl34s",
        "outputId": "6e96e6fb-eb8c-4496-a10f-d783e0b65604"
      },
      "outputs": [
        {
          "output_type": "stream",
          "name": "stdout",
          "text": [
            "['But', 'next']\n"
          ]
        }
      ],
      "source": [
        "input=\"working with you about \"\n",
        "print(predict_next_word(input, 2))"
      ]
    },
    {
      "cell_type": "code",
      "source": [
        "input=\"I would like to tell\"\n",
        "print(predict_next_word(input, 2))"
      ],
      "metadata": {
        "id": "9y1nbUWQKknl",
        "colab": {
          "base_uri": "https://localhost:8080/"
        },
        "outputId": "67d63885-0f46-405b-b9b0-542f5029b055"
      },
      "execution_count": 36,
      "outputs": [
        {
          "output_type": "stream",
          "name": "stdout",
          "text": [
            "['you', 'him']\n"
          ]
        }
      ]
    },
    {
      "cell_type": "code",
      "source": [
        "input=\"To working with you about\"\n",
        "print(predict_next_word(input, 2))"
      ],
      "metadata": {
        "id": "yeLwNLfq-BwZ",
        "colab": {
          "base_uri": "https://localhost:8080/"
        },
        "outputId": "64baec91-db50-4e99-f0de-28d278eb02e4"
      },
      "execution_count": 40,
      "outputs": [
        {
          "output_type": "stream",
          "name": "stdout",
          "text": [
            "['this', 'an']\n"
          ]
        }
      ]
    },
    {
      "cell_type": "code",
      "source": [
        ""
      ],
      "metadata": {
        "id": "gwzGHRL0ainU"
      },
      "execution_count": null,
      "outputs": []
    }
  ],
  "metadata": {
    "accelerator": "GPU",
    "colab": {
      "collapsed_sections": [],
      "name": "CCNLP MINI PROJECT Next-word-prediction.ipynb",
      "provenance": []
    },
    "kernelspec": {
      "display_name": "Python 3",
      "name": "python3"
    },
    "language_info": {
      "name": "python"
    }
  },
  "nbformat": 4,
  "nbformat_minor": 0
}